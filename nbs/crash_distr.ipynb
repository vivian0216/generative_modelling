{
 "cells": [
  {
   "cell_type": "code",
   "execution_count": 38,
   "metadata": {},
   "outputs": [],
   "source": [
    "import wandb\n",
    "import numpy as np\n",
    "import pandas as pd\n",
    "from matplotlib import pyplot as plt"
   ]
  },
  {
   "cell_type": "code",
   "execution_count": 39,
   "metadata": {},
   "outputs": [
    {
     "data": {
      "text/plain": [
       "True"
      ]
     },
     "execution_count": 39,
     "metadata": {},
     "output_type": "execute_result"
    }
   ],
   "source": [
    "wandb.login()"
   ]
  },
  {
   "cell_type": "code",
   "execution_count": 40,
   "metadata": {},
   "outputs": [
    {
     "name": "stdout",
     "output_type": "stream",
     "text": [
      "Found 50 runs\n",
      "\n",
      "Summary metrics:\n",
      "- Training/acc\n",
      "- Training/energy_fake\n",
      "- Training/energy_real\n",
      "- Training/l1\n",
      "- Training/loss\n",
      "- Training/loss_clf\n",
      "- Training/loss_gen\n",
      "- _runtime\n",
      "- _step\n",
      "- _timestamp\n",
      "- _wandb\n",
      "- batch\n",
      "- epoch\n"
     ]
    }
   ],
   "source": [
    "api = wandb.Api()\n",
    "runs = api.runs(\"fsoconut/generative-modelling\", {\"group\": \"MNIST-base\"})\n",
    "\n",
    "# Get summary metrics for each run\n",
    "summaries = []\n",
    "for run in runs:\n",
    "    summaries.append(run.summary._json_dict)\n",
    "\n",
    "print(f\"Found {len(summaries)} runs\")\n",
    "print(\"\\nSummary metrics:\")\n",
    "if len(summaries) > 0:\n",
    "    for key in summaries[0].keys():\n",
    "        print(f\"- {key}\")"
   ]
  },
  {
   "cell_type": "code",
   "execution_count": 41,
   "metadata": {},
   "outputs": [
    {
     "data": {
      "text/html": [
       "<div>\n",
       "<style scoped>\n",
       "    .dataframe tbody tr th:only-of-type {\n",
       "        vertical-align: middle;\n",
       "    }\n",
       "\n",
       "    .dataframe tbody tr th {\n",
       "        vertical-align: top;\n",
       "    }\n",
       "\n",
       "    .dataframe thead th {\n",
       "        text-align: right;\n",
       "    }\n",
       "</style>\n",
       "<table border=\"1\" class=\"dataframe\">\n",
       "  <thead>\n",
       "    <tr style=\"text-align: right;\">\n",
       "      <th></th>\n",
       "      <th>Training/acc</th>\n",
       "      <th>Training/energy_fake</th>\n",
       "      <th>Training/energy_real</th>\n",
       "      <th>Training/l1</th>\n",
       "      <th>Training/loss</th>\n",
       "      <th>Training/loss_clf</th>\n",
       "      <th>Training/loss_gen</th>\n",
       "      <th>_runtime</th>\n",
       "      <th>_step</th>\n",
       "      <th>_timestamp</th>\n",
       "      <th>_wandb</th>\n",
       "      <th>batch</th>\n",
       "      <th>epoch</th>\n",
       "      <th>Testing/acc</th>\n",
       "    </tr>\n",
       "  </thead>\n",
       "  <tbody>\n",
       "    <tr>\n",
       "      <th>0</th>\n",
       "      <td>0.656250</td>\n",
       "      <td>129.795609</td>\n",
       "      <td>45.244324</td>\n",
       "      <td>1.070363</td>\n",
       "      <td>-83.436958</td>\n",
       "      <td>1.114325</td>\n",
       "      <td>-84.551285</td>\n",
       "      <td>153.371846</td>\n",
       "      <td>616</td>\n",
       "      <td>1.749116e+09</td>\n",
       "      <td>{'runtime': 154}</td>\n",
       "      <td>616</td>\n",
       "      <td>1</td>\n",
       "      <td>NaN</td>\n",
       "    </tr>\n",
       "    <tr>\n",
       "      <th>1</th>\n",
       "      <td>0.578125</td>\n",
       "      <td>135.906082</td>\n",
       "      <td>38.095322</td>\n",
       "      <td>1.145959</td>\n",
       "      <td>-96.223640</td>\n",
       "      <td>1.587114</td>\n",
       "      <td>-97.810753</td>\n",
       "      <td>116.643087</td>\n",
       "      <td>454</td>\n",
       "      <td>1.749116e+09</td>\n",
       "      <td>{'runtime': 116}</td>\n",
       "      <td>454</td>\n",
       "      <td>1</td>\n",
       "      <td>NaN</td>\n",
       "    </tr>\n",
       "    <tr>\n",
       "      <th>2</th>\n",
       "      <td>0.609375</td>\n",
       "      <td>141.951385</td>\n",
       "      <td>48.276695</td>\n",
       "      <td>1.282979</td>\n",
       "      <td>-92.368660</td>\n",
       "      <td>1.306033</td>\n",
       "      <td>-93.674690</td>\n",
       "      <td>101.452531</td>\n",
       "      <td>412</td>\n",
       "      <td>1.749117e+09</td>\n",
       "      <td>{'runtime': 101}</td>\n",
       "      <td>412</td>\n",
       "      <td>1</td>\n",
       "      <td>NaN</td>\n",
       "    </tr>\n",
       "    <tr>\n",
       "      <th>3</th>\n",
       "      <td>0.421875</td>\n",
       "      <td>149.537659</td>\n",
       "      <td>48.674416</td>\n",
       "      <td>1.147568</td>\n",
       "      <td>-96.517769</td>\n",
       "      <td>4.345469</td>\n",
       "      <td>-100.863235</td>\n",
       "      <td>153.695486</td>\n",
       "      <td>609</td>\n",
       "      <td>1.749117e+09</td>\n",
       "      <td>{'runtime': 154}</td>\n",
       "      <td>609</td>\n",
       "      <td>1</td>\n",
       "      <td>NaN</td>\n",
       "    </tr>\n",
       "    <tr>\n",
       "      <th>4</th>\n",
       "      <td>0.390625</td>\n",
       "      <td>160.652679</td>\n",
       "      <td>79.543037</td>\n",
       "      <td>0.938155</td>\n",
       "      <td>-78.788467</td>\n",
       "      <td>2.321184</td>\n",
       "      <td>-81.109650</td>\n",
       "      <td>296.199832</td>\n",
       "      <td>1223</td>\n",
       "      <td>1.749117e+09</td>\n",
       "      <td>{'runtime': 297}</td>\n",
       "      <td>1222</td>\n",
       "      <td>2</td>\n",
       "      <td>0.86112</td>\n",
       "    </tr>\n",
       "  </tbody>\n",
       "</table>\n",
       "</div>"
      ],
      "text/plain": [
       "   Training/acc  Training/energy_fake  Training/energy_real  Training/l1  \\\n",
       "0      0.656250            129.795609             45.244324     1.070363   \n",
       "1      0.578125            135.906082             38.095322     1.145959   \n",
       "2      0.609375            141.951385             48.276695     1.282979   \n",
       "3      0.421875            149.537659             48.674416     1.147568   \n",
       "4      0.390625            160.652679             79.543037     0.938155   \n",
       "\n",
       "   Training/loss  Training/loss_clf  Training/loss_gen    _runtime  _step  \\\n",
       "0     -83.436958           1.114325         -84.551285  153.371846    616   \n",
       "1     -96.223640           1.587114         -97.810753  116.643087    454   \n",
       "2     -92.368660           1.306033         -93.674690  101.452531    412   \n",
       "3     -96.517769           4.345469        -100.863235  153.695486    609   \n",
       "4     -78.788467           2.321184         -81.109650  296.199832   1223   \n",
       "\n",
       "     _timestamp            _wandb  batch  epoch  Testing/acc  \n",
       "0  1.749116e+09  {'runtime': 154}    616      1          NaN  \n",
       "1  1.749116e+09  {'runtime': 116}    454      1          NaN  \n",
       "2  1.749117e+09  {'runtime': 101}    412      1          NaN  \n",
       "3  1.749117e+09  {'runtime': 154}    609      1          NaN  \n",
       "4  1.749117e+09  {'runtime': 297}   1222      2      0.86112  "
      ]
     },
     "execution_count": 41,
     "metadata": {},
     "output_type": "execute_result"
    }
   ],
   "source": [
    "# Convert list of summary dicts to dataframe\n",
    "df = pd.DataFrame(summaries)\n",
    "df.head()"
   ]
  },
  {
   "cell_type": "code",
   "execution_count": 44,
   "metadata": {},
   "outputs": [
    {
     "data": {
      "image/png": "[encoded data removed]",
      "text/plain": [
       "<Figure size 640x480 with 1 Axes>"
      ]
     },
     "metadata": {},
     "output_type": "display_data"
    }
   ],
   "source": [
    "df['batch'].hist()\n",
    "plt.show()"
   ]
  },
  {
   "cell_type": "code",
   "execution_count": 43,
   "metadata": {},
   "outputs": [
    {
     "data": {
      "image/png": "[encoded data removed]",
      "text/plain": [
       "<Figure size 640x480 with 1 Axes>"
      ]
     },
     "metadata": {},
     "output_type": "display_data"
    },
    {
     "name": "stdout",
     "output_type": "stream",
     "text": [
      "Onset: 367\n",
      "Decay rate: 0.9965\n",
      "Crash every 288 batches\n"
     ]
    }
   ],
   "source": [
    "alive = np.zeros(df['batch'].max())\n",
    "for i, row in df.iterrows():\n",
    "    alive[0:row['batch']] += 1\n",
    "alive /= len(runs)\n",
    "plt.plot(alive)\n",
    "plt.xlabel('Batch index')\n",
    "plt.ylabel('Number of runs alive')\n",
    "\n",
    "# Fit exponential decay\n",
    "from scipy.optimize import curve_fit\n",
    "def exp_decay(x, rate, onset):\n",
    "    return np.where(x < onset, 1, rate ** (x - onset))\n",
    "\n",
    "xs = np.arange(len(alive))\n",
    "popt, _ = curve_fit(exp_decay, xs, alive)\n",
    "plt.plot(xs, exp_decay(xs, *popt), label='Fitted exponential decay', linestyle='--')\n",
    "plt.legend()\n",
    "plt.show()\n",
    "\n",
    "print(f'Onset: {round(popt[1])}')\n",
    "print(f'Decay rate: {popt[0]:.4f}')\n",
    "print(f'Crash every {round(1 / (1-popt[0]))} batches')\n"
   ]
  },
  {
   "cell_type": "code",
   "execution_count": null,
   "metadata": {},
   "outputs": [],
   "source": []
  }
 ],
 "metadata": {
  "kernelspec": {
   "display_name": ".venv",
   "language": "python",
   "name": "python3"
  },
  "language_info": {
   "codemirror_mode": {
    "name": "ipython",
    "version": 3
   },
   "file_extension": ".py",
   "mimetype": "text/x-python",
   "name": "python",
   "nbconvert_exporter": "python",
   "pygments_lexer": "ipython3",
   "version": "3.11.7"
  }
 },
 "nbformat": 4,
 "nbformat_minor": 2
}
